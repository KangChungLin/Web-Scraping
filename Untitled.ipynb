{
 "cells": [
  {
   "cell_type": "code",
   "execution_count": 1,
   "metadata": {},
   "outputs": [
    {
     "name": "stdout",
     "output_type": "stream",
     "text": [
      "Collecting selenium\n",
      "  Downloading selenium-3.141.0-py2.py3-none-any.whl (904 kB)\n",
      "Requirement already satisfied: beautifulsoup4 in c:\\users\\kang\\anaconda3\\lib\\site-packages (4.9.0)\n",
      "Requirement already satisfied: requests in c:\\users\\kang\\anaconda3\\lib\\site-packages (2.23.0)\n",
      "Collecting pandas_datareader\n",
      "  Downloading pandas_datareader-0.8.1-py2.py3-none-any.whl (107 kB)\n",
      "Collecting mpl_finance\n",
      "  Downloading mpl_finance-0.10.1-py3-none-any.whl (8.4 kB)\n",
      "Requirement already satisfied: urllib3 in c:\\users\\kang\\anaconda3\\lib\\site-packages (from selenium) (1.25.8)\n",
      "Note: you may need to restart the kernel to use updated packages.\n",
      "Requirement already satisfied: soupsieve>1.2 in c:\\users\\kang\\anaconda3\\lib\\site-packages (from beautifulsoup4) (2.0.1)\n",
      "Requirement already satisfied: chardet<4,>=3.0.2 in c:\\users\\kang\\anaconda3\\lib\\site-packages (from requests) (3.0.4)\n",
      "Requirement already satisfied: certifi>=2017.4.17 in c:\\users\\kang\\anaconda3\\lib\\site-packages (from requests) (2020.4.5.1)\n",
      "Requirement already satisfied: idna<3,>=2.5 in c:\\users\\kang\\anaconda3\\lib\\site-packages (from requests) (2.9)\n",
      "Requirement already satisfied: pandas>=0.21 in c:\\users\\kang\\anaconda3\\lib\\site-packages (from pandas_datareader) (1.0.3)\n",
      "Requirement already satisfied: lxml in c:\\users\\kang\\anaconda3\\lib\\site-packages (from pandas_datareader) (4.5.0)\n",
      "Requirement already satisfied: matplotlib in c:\\users\\kang\\anaconda3\\lib\\site-packages (from mpl_finance) (3.1.3)\n",
      "Requirement already satisfied: pytz>=2017.2 in c:\\users\\kang\\anaconda3\\lib\\site-packages (from pandas>=0.21->pandas_datareader) (2020.1)\n",
      "Requirement already satisfied: numpy>=1.13.3 in c:\\users\\kang\\anaconda3\\lib\\site-packages (from pandas>=0.21->pandas_datareader) (1.18.1)\n",
      "Requirement already satisfied: python-dateutil>=2.6.1 in c:\\users\\kang\\anaconda3\\lib\\site-packages (from pandas>=0.21->pandas_datareader) (2.8.1)\n",
      "Requirement already satisfied: pyparsing!=2.0.4,!=2.1.2,!=2.1.6,>=2.0.1 in c:\\users\\kang\\anaconda3\\lib\\site-packages (from matplotlib->mpl_finance) (2.4.7)\n",
      "Requirement already satisfied: cycler>=0.10 in c:\\users\\kang\\anaconda3\\lib\\site-packages (from matplotlib->mpl_finance) (0.10.0)\n",
      "Requirement already satisfied: kiwisolver>=1.0.1 in c:\\users\\kang\\anaconda3\\lib\\site-packages (from matplotlib->mpl_finance) (1.2.0)\n",
      "Requirement already satisfied: six>=1.5 in c:\\users\\kang\\anaconda3\\lib\\site-packages (from python-dateutil>=2.6.1->pandas>=0.21->pandas_datareader) (1.14.0)\n",
      "Installing collected packages: selenium, pandas-datareader, mpl-finance\n",
      "Successfully installed mpl-finance-0.10.1 pandas-datareader-0.8.1 selenium-3.141.0\n"
     ]
    }
   ],
   "source": [
    "pip install selenium beautifulsoup4 requests pandas_datareader mpl_finance"
   ]
  }
 ],
 "metadata": {
  "kernelspec": {
   "display_name": "Python 3",
   "language": "python",
   "name": "python3"
  },
  "language_info": {
   "codemirror_mode": {
    "name": "ipython",
    "version": 3
   },
   "file_extension": ".py",
   "mimetype": "text/x-python",
   "name": "python",
   "nbconvert_exporter": "python",
   "pygments_lexer": "ipython3",
   "version": "3.7.7"
  }
 },
 "nbformat": 4,
 "nbformat_minor": 4
}
